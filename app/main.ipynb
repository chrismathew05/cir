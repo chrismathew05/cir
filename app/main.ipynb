{
 "cells": [
  {
   "cell_type": "markdown",
   "metadata": {},
   "source": [
    "# Circuit Grapher\n",
    "\n",
    "Use this notebook to explore the circuit defined in a given XML file."
   ]
  },
  {
   "cell_type": "code",
   "execution_count": 4,
   "metadata": {},
   "outputs": [
    {
     "name": "stdout",
     "output_type": "stream",
     "text": [
      "Constructing circuit graph...\n",
      "Circuit graph constructed.\n",
      "Cycles found: []\n"
     ]
    },
    {
     "data": {
      "image/png": "[encoded data removed]",
      "text/plain": [
       "<Figure size 432x288 with 1 Axes>"
      ]
     },
     "metadata": {},
     "output_type": "display_data"
    }
   ],
   "source": [
    "import sys\n",
    "from app.graph import CircuitGraph\n",
    "\n",
    "sys.path.insert(0, \"..\")\n",
    "\n",
    "C = CircuitGraph(\"circuits/circuit.xml\")\n",
    "C.draw()\n",
    "print(f\"Cycles found: {C.find_cycles()}\")"
   ]
  },
  {
   "cell_type": "code",
   "execution_count": 5,
   "metadata": {},
   "outputs": [
    {
     "data": {
      "text/plain": [
       "[['board_0_wire_0', 'board_0_wire_2', 'board_0_wire_1']]"
      ]
     },
     "execution_count": 5,
     "metadata": {},
     "output_type": "execute_result"
    }
   ],
   "source": [
    "C.find_paths(\"board_0_wire_0\", \"board_0_wire_1\")"
   ]
  }
 ],
 "metadata": {
  "kernelspec": {
   "display_name": "Python 3.8.10 ('venv': venv)",
   "language": "python",
   "name": "python3"
  },
  "language_info": {
   "codemirror_mode": {
    "name": "ipython",
    "version": 3
   },
   "file_extension": ".py",
   "mimetype": "text/x-python",
   "name": "python",
   "nbconvert_exporter": "python",
   "pygments_lexer": "ipython3",
   "version": "3.8.10"
  },
  "orig_nbformat": 4,
  "vscode": {
   "interpreter": {
    "hash": "20df1a35c0ab24900b05217d768f9a1598e87d005103f76cfbdeff542f0c5126"
   }
  }
 },
 "nbformat": 4,
 "nbformat_minor": 2
}
